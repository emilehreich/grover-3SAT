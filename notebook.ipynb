{
 "cells": [
  {
   "cell_type": "code",
   "execution_count": 1,
   "metadata": {},
   "outputs": [],
   "source": [
    "'''\n",
    "    @file: grover_3SAT.py\n",
    "\n",
    "    @date: 15/05/2022\n",
    "\n",
    "    @author: Emile Janho Dit Hreich (309994)\n",
    "             emile.janhodithreich@epfl.ch\n",
    "\n",
    "             Arion Zimmerman\n",
    "             arion.zimmermann@epfl.ch (315007)\n",
    "\n",
    "    @brief: Mini-Projet quantique 2022\n",
    "\n",
    "'''\n",
    "# =============================================================================================\n",
    "# Libraries\n",
    "\n",
    "from qiskit import QuantumRegister, ClassicalRegister, QuantumCircuit, execute, Aer, IBMQ\n",
    "from qiskit.visualization import *\n",
    "from qiskit.tools.jupyter import *\n",
    "from qiskit.compiler import transpile, assemble\n",
    "import numpy as np\n",
    "\n"
   ]
  },
  {
   "cell_type": "code",
   "execution_count": 2,
   "metadata": {},
   "outputs": [],
   "source": [
    "# =============================================================================================\n",
    "# Account loading\n",
    "provider = IBMQ.load_account()\n",
    "\n"
   ]
  },
  {
   "cell_type": "code",
   "execution_count": 11,
   "metadata": {},
   "outputs": [],
   "source": [
    "# =============================================================================================\n",
    "# Problem instance\n",
    "\n",
    "# Question 1\n",
    "def naive_enumeration():\n",
    "    solutions = []\n",
    "\n",
    "    for bit_list in range(0, 7):\n",
    "        x = bit_list & 0b1\n",
    "        y = (bit_list >> 1) & 0b1\n",
    "        z = (bit_list >> 2) & 0b1\n",
    "\n",
    "        if ((~x | ~y | ~z) &\n",
    "            (~x | ~y |  z) &\n",
    "            (~x | y  |  z) &\n",
    "            (x  | ~y |  z) &\n",
    "            (x  | y  | ~z) &\n",
    "            (x  | y  |  z)) == 1:\n",
    "                solutions.append((x, y, z))\n",
    "\n",
    "    print(solutions)\n",
    "\n",
    "\n",
    "# Question 2\n",
    "def oracle_uf():\n",
    "    # N = 8\n",
    "    # M = 2\n",
    "    # Define \\theta as \\arcsin(\\sqrt \\frac{M}{N})\n",
    "    # We must iterate K = [\\frac{\\pi}{4 \\theta_0}] times\n",
    "\n",
    "    # ex1() yields the solutions s_1 = (1, 0, 1) and s_2 (0, 1, 1)\n",
    "\n",
    "    Uf = np.array([[1, 0, 0, 0 ],\n",
    "                   [0, 1, 0, 0 ],\n",
    "                   [0, 0, 1, 0 ],\n",
    "                   [1, 1, 0, 1 ]]) # The last vector was found as s_1 xor s_2\n",
    "\n",
    "    return Uf\n",
    "\n",
    "# Question 3\n",
    "def reflection():\n",
    "    '''\n",
    "        The reflection operator\n",
    "    '''\n",
    "    pass\n",
    "\n",
    "# Question 5\n",
    "def direct_Uf():\n",
    "    pass\n",
    "    # Add an ancilla qubit\n",
    "    # Apply Hadamard to initial state with ancilla = 0\n",
    "    # Apply Uf (as in ex2)\n",
    "    # Project with |xyz><abc| transformation where abc is Hadamard basis\n",
    "\n",
    "\n",
    "\n"
   ]
  },
  {
   "cell_type": "code",
   "execution_count": 4,
   "metadata": {},
   "outputs": [],
   "source": [
    "# =============================================================================================\n",
    "# helper functions\n",
    "\n",
    "def gen_hadamard(circuit, qubits):\n",
    "    \"\"\"Apply a H-gate to 'qubits' in qc\"\"\"\n",
    "    for q in qubits:\n",
    "        circuit.h(q)\n",
    "    return circuit\n",
    "\n",
    "# Generic functions\n",
    "def simulate(circuit, shots):\n",
    "    simulator = Aer.get_backend('qasm_simulator')\n",
    "    job = execute(circuit, simulator, shots)\n",
    "    result = job.result()\n",
    "    counts = result.get_counts(circuit)\n",
    "\n",
    "    print(counts) # TODO\n",
    "\n"
   ]
  },
  {
   "cell_type": "code",
   "execution_count": 13,
   "metadata": {},
   "outputs": [
    {
     "name": "stdout",
     "output_type": "stream",
     "text": [
      "[(1, 0, 1), (0, 1, 1)]\n"
     ]
    },
    {
     "ename": "TypeError",
     "evalue": "issubclass() arg 1 must be a class",
     "output_type": "error",
     "traceback": [
      "\u001b[1;31m---------------------------------------------------------------------------\u001b[0m",
      "\u001b[1;31mTypeError\u001b[0m                                 Traceback (most recent call last)",
      "\u001b[1;32m<ipython-input-13-581c228c9298>\u001b[0m in \u001b[0;36m<module>\u001b[1;34m\u001b[0m\n\u001b[0;32m     22\u001b[0m \u001b[0mcircuit\u001b[0m\u001b[1;33m.\u001b[0m\u001b[0mbarrier\u001b[0m\u001b[1;33m(\u001b[0m\u001b[0mnp\u001b[0m\u001b[1;33m.\u001b[0m\u001b[0marange\u001b[0m\u001b[1;33m(\u001b[0m\u001b[1;36m0\u001b[0m\u001b[1;33m,\u001b[0m\u001b[1;36m4\u001b[0m\u001b[1;33m)\u001b[0m\u001b[1;33m)\u001b[0m\u001b[1;33m\u001b[0m\u001b[1;33m\u001b[0m\u001b[0m\n\u001b[0;32m     23\u001b[0m \u001b[0mu_f\u001b[0m \u001b[1;33m=\u001b[0m \u001b[0moracle_uf\u001b[0m\u001b[1;33m(\u001b[0m\u001b[1;33m)\u001b[0m\u001b[1;33m\u001b[0m\u001b[1;33m\u001b[0m\u001b[0m\n\u001b[1;32m---> 24\u001b[1;33m \u001b[0mcircuit\u001b[0m\u001b[1;33m.\u001b[0m\u001b[0mappend\u001b[0m\u001b[1;33m(\u001b[0m\u001b[0mu_f\u001b[0m\u001b[1;33m,\u001b[0m \u001b[0mrange\u001b[0m\u001b[1;33m(\u001b[0m\u001b[1;36m0\u001b[0m\u001b[1;33m,\u001b[0m\u001b[1;36m3\u001b[0m\u001b[1;33m)\u001b[0m\u001b[1;33m)\u001b[0m\u001b[1;33m\u001b[0m\u001b[1;33m\u001b[0m\u001b[0m\n\u001b[0m\u001b[0;32m     25\u001b[0m \u001b[1;31m#=============================\u001b[0m\u001b[1;33m\u001b[0m\u001b[1;33m\u001b[0m\u001b[1;33m\u001b[0m\u001b[0m\n\u001b[0;32m     26\u001b[0m \u001b[1;31m# DEBUG\u001b[0m\u001b[1;33m\u001b[0m\u001b[1;33m\u001b[0m\u001b[1;33m\u001b[0m\u001b[0m\n",
      "\u001b[1;32mc:\\Users\\emile\\miniconda3\\lib\\site-packages\\qiskit\\circuit\\quantumcircuit.py\u001b[0m in \u001b[0;36mappend\u001b[1;34m(self, instruction, qargs, cargs)\u001b[0m\n\u001b[0;32m   1182\u001b[0m         \u001b[1;31m# Convert input to instruction\u001b[0m\u001b[1;33m\u001b[0m\u001b[1;33m\u001b[0m\u001b[1;33m\u001b[0m\u001b[0m\n\u001b[0;32m   1183\u001b[0m         \u001b[1;32mif\u001b[0m \u001b[1;32mnot\u001b[0m \u001b[0misinstance\u001b[0m\u001b[1;33m(\u001b[0m\u001b[0minstruction\u001b[0m\u001b[1;33m,\u001b[0m \u001b[0mInstruction\u001b[0m\u001b[1;33m)\u001b[0m \u001b[1;32mand\u001b[0m \u001b[1;32mnot\u001b[0m \u001b[0mhasattr\u001b[0m\u001b[1;33m(\u001b[0m\u001b[0minstruction\u001b[0m\u001b[1;33m,\u001b[0m \u001b[1;34m\"to_instruction\"\u001b[0m\u001b[1;33m)\u001b[0m\u001b[1;33m:\u001b[0m\u001b[1;33m\u001b[0m\u001b[1;33m\u001b[0m\u001b[0m\n\u001b[1;32m-> 1184\u001b[1;33m             \u001b[1;32mif\u001b[0m \u001b[0missubclass\u001b[0m\u001b[1;33m(\u001b[0m\u001b[0minstruction\u001b[0m\u001b[1;33m,\u001b[0m \u001b[0mInstruction\u001b[0m\u001b[1;33m)\u001b[0m\u001b[1;33m:\u001b[0m\u001b[1;33m\u001b[0m\u001b[1;33m\u001b[0m\u001b[0m\n\u001b[0m\u001b[0;32m   1185\u001b[0m                 raise CircuitError(\n\u001b[0;32m   1186\u001b[0m                     \u001b[1;34m\"Object is a subclass of Instruction, please add () to \"\u001b[0m\u001b[1;33m\u001b[0m\u001b[1;33m\u001b[0m\u001b[0m\n",
      "\u001b[1;31mTypeError\u001b[0m: issubclass() arg 1 must be a class"
     ]
    }
   ],
   "source": [
    "# =============================================================================================\n",
    "# Main\n",
    "\n",
    "# if __name__ == \"__Main__\":\n",
    "    \n",
    "# ----------------------------------------\n",
    "# Q1: naive enumeration\n",
    "naive_enumeration()\n",
    "\n",
    "# ----------------------------------------\n",
    "# circuit implementation\n",
    "\n",
    "qubits  = 3\n",
    "nb_bits = 4 \n",
    "\n",
    "# initialize circuit\n",
    "circuit = QuantumCircuit(nb_bits, qubits)\n",
    "\n",
    "# initial state\n",
    "gen_hadamard(circuit, [0,1,2,3])\n",
    "\n",
    "circuit.barrier(np.arange(0,4))\n",
    "u_f = oracle_uf()\n",
    "circuit.append(u_f, range(0,3))\n",
    "#=============================\n",
    "# DEBUG\n",
    "circuit.draw()\n",
    "\n",
    "#=============================\n",
    "\n",
    "# add oracle U_f\n",
    "\n",
    "# add reflector operator"
   ]
  }
 ],
 "metadata": {
  "interpreter": {
   "hash": "c4192f8bb36c940ec359c25baa8c66226fb2d6a5f1bbbe17ca06547285f37219"
  },
  "kernelspec": {
   "display_name": "Python 3.8.5 ('base')",
   "language": "python",
   "name": "python3"
  },
  "language_info": {
   "codemirror_mode": {
    "name": "ipython",
    "version": 3
   },
   "file_extension": ".py",
   "mimetype": "text/x-python",
   "name": "python",
   "nbconvert_exporter": "python",
   "pygments_lexer": "ipython3",
   "version": "3.8.5"
  },
  "orig_nbformat": 4
 },
 "nbformat": 4,
 "nbformat_minor": 2
}
