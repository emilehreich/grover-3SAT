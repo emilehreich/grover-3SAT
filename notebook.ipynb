{
 "cells": [
  {
   "cell_type": "code",
   "execution_count": 1,
   "metadata": {},
   "outputs": [],
   "source": [
    "'''\n",
    "    @file: grover_3SAT.py\n",
    "\n",
    "    @date: 15/05/2022\n",
    "\n",
    "    @author: Emile Janho Dit Hreich (309994)\n",
    "             emile.janhodithreich@epfl.ch\n",
    "\n",
    "             Arion Zimmerman\n",
    "             arion.zimmermann@epfl.ch (315007)\n",
    "\n",
    "    @brief: Mini-Projet quantique 2022\n",
    "\n",
    "'''\n",
    "# =============================================================================================\n",
    "# Libraries\n",
    "\n",
    "from qiskit import QuantumRegister, ClassicalRegister, QuantumCircuit, execute, Aer, IBMQ\n",
    "from qiskit.visualization import *\n",
    "from qiskit.tools.jupyter import *\n",
    "from qiskit.compiler import transpile, assemble\n",
    "import numpy as np\n",
    "\n"
   ]
  },
  {
   "cell_type": "code",
   "execution_count": 2,
   "metadata": {},
   "outputs": [],
   "source": [
    "# =============================================================================================\n",
    "# Account loading\n",
    "provider = IBMQ.load_account()\n",
    "\n"
   ]
  },
  {
   "cell_type": "code",
   "execution_count": 48,
   "metadata": {},
   "outputs": [],
   "source": [
    "# =============================================================================================\n",
    "# Problem instance\n",
    "\n",
    "# Question 1\n",
    "def naive_enumeration():\n",
    "    solutions = []\n",
    "\n",
    "    for bit_list in range(0, 7):\n",
    "        x = bit_list & 0b1\n",
    "        y = (bit_list >> 1) & 0b1\n",
    "        z = (bit_list >> 2) & 0b1\n",
    "\n",
    "        if ((~x | ~y | ~z) &\n",
    "            (~x | ~y |  z) &\n",
    "            (~x | y  |  z) &\n",
    "            (x  | ~y |  z) &\n",
    "            (x  | y  | ~z) &\n",
    "            (x  | y  |  z)) == 1:\n",
    "                solutions.append((x, y, z))\n",
    "\n",
    "    print(solutions)\n",
    "\n",
    "\n",
    "# Question 2\n",
    "def oracle_uf(circuit):\n",
    "    # N = 8\n",
    "    # M = 2\n",
    "    # Define \\theta as \\arcsin(\\sqrt \\frac{M}{N})\n",
    "    # We must iterate K = [\\frac{\\pi}{4 \\theta_0}] times\n",
    "\n",
    "    # ex1() yields the solutions s_1 = (1, 0, 1) and s_2 (0, 1, 1)\n",
    "\n",
    "    circuit.ccx([0, 2], 3)\n",
    "    circuit.ccx([1, 2], 3)\n",
    "\n",
    "\n",
    "# Question 3\n",
    "def reflection():\n",
    "    '''\n",
    "        The reflection operator\n",
    "    '''\n",
    "    pass\n",
    "\n",
    "# Question 5\n",
    "def direct_Uf():\n",
    "    pass\n",
    "    # Add an ancilla qubit\n",
    "    # Apply Hadamard to initial state with ancilla = 0\n",
    "    # Apply Uf (as in ex2)\n",
    "    # Project with |xyz><abc| transformation where abc is Hadamard basis\n",
    "\n",
    "\n",
    "\n"
   ]
  },
  {
   "cell_type": "code",
   "execution_count": 49,
   "metadata": {},
   "outputs": [],
   "source": [
    "# =============================================================================================\n",
    "# helper functions\n",
    "\n",
    "def gen_hadamard(circuit, qubits):\n",
    "    \"\"\"Apply a H-gate to 'qubits' in qc\"\"\"\n",
    "    for q in qubits:\n",
    "        circuit.h(q)\n",
    "    return circuit\n",
    "\n",
    "# Generic functions\n",
    "def simulate(circuit, shots):\n",
    "    simulator = Aer.get_backend('qasm_simulator')\n",
    "    job = execute(circuit, simulator, shots)\n",
    "    result = job.result()\n",
    "    counts = result.get_counts(circuit)\n",
    "\n",
    "    print(counts) # TODO\n",
    "\n"
   ]
  },
  {
   "cell_type": "code",
   "execution_count": 50,
   "metadata": {},
   "outputs": [
    {
     "name": "stdout",
     "output_type": "stream",
     "text": [
      "[(1, 0, 1), (0, 1, 1)]\n",
      "[[ 1.00000000e+00+0.j  0.00000000e+00+0.j  0.00000000e+00+0.j\n",
      "   0.00000000e+00+0.j]\n",
      " [ 0.00000000e+00+0.j  1.00000000e+00+0.j  0.00000000e+00+0.j\n",
      "   0.00000000e+00+0.j]\n",
      " [ 0.00000000e+00+0.j  0.00000000e+00+0.j  1.00000000e+00+0.j\n",
      "   0.00000000e+00+0.j]\n",
      " [-2.22044605e-16-1.j -2.22044605e-16-1.j  0.00000000e+00+0.j\n",
      "   1.00000000e+00+0.j]]\n",
      "Traceback \u001b[1;36m(most recent call last)\u001b[0m:\n",
      "  Input \u001b[0;32mIn [50]\u001b[0m in \u001b[0;35m<cell line: 25>\u001b[0m\n",
      "    gate = circuit.unitary(u_f, [0, 1, 2, 3], label='Uf')\n",
      "  File \u001b[0;32m/opt/conda/lib/python3.8/site-packages/qiskit/extensions/unitary.py:219\u001b[0m in \u001b[0;35munitary\u001b[0m\n",
      "    gate = UnitaryGate(obj, label=label)\n",
      "\u001b[1;36m  File \u001b[1;32m/opt/conda/lib/python3.8/site-packages/qiskit/extensions/unitary.py:63\u001b[1;36m in \u001b[1;35m__init__\u001b[1;36m\u001b[0m\n",
      "\u001b[1;33m    raise ExtensionError(\"Input matrix is not unitary.\")\u001b[0m\n",
      "\u001b[1;31mExtensionError\u001b[0m\u001b[1;31m:\u001b[0m 'Input matrix is not unitary.'\n",
      "\n",
      "Use %tb to get the full traceback.\n"
     ]
    },
    {
     "data": {
      "text/html": [
       "\n",
       "<style>\n",
       ".button {\n",
       "  border: none;\n",
       "  color: white;\n",
       "  padding: 4px 8px;\n",
       "  text-align: center;\n",
       "  text-decoration: none;\n",
       "  display: inline-block;\n",
       "  font-size: 12px;\n",
       "  margin: 4px 2px;\n",
       "  transition-duration: 0.2s;\n",
       "  cursor: pointer;\n",
       "}\n",
       ".iqx-button {\n",
       "  background-color: #0f62fe; \n",
       "  color: white; \n",
       "}\n",
       ".iqx-button:hover {\n",
       "  background-color: #0043ce;\n",
       "  color: white;\n",
       "}\n",
       "</style>\n",
       "<a href=\"https://stackoverflow.com/search?q=ExtensionError: Input matrix is not unitary.\" target='_blank'><button class='button iqx-button'>Search for solution online</button></a>\n"
      ],
      "text/plain": [
       "<IPython.core.display.HTML object>"
      ]
     },
     "metadata": {},
     "output_type": "display_data"
    }
   ],
   "source": [
    "# =============================================================================================\n",
    "# Main\n",
    "\n",
    "# if __name__ == \"__Main__\":\n",
    "    \n",
    "# ----------------------------------------\n",
    "# Q1: naive enumeration\n",
    "naive_enumeration()\n",
    "\n",
    "# ----------------------------------------\n",
    "# circuit implementation\n",
    "\n",
    "qubits  = 3\n",
    "nb_bits = 4 \n",
    "\n",
    "# initialize circuit\n",
    "circuit = QuantumCircuit(nb_bits, qubits)\n",
    "\n",
    "# initial state\n",
    "gen_hadamard(circuit, [0,1,2,3])\n",
    "\n",
    "circuit.oracle_uf()\n",
    "\n",
    "#=============================\n",
    "# DEBUG\n",
    "circuit.draw()\n",
    "\n",
    "#=============================\n",
    "\n",
    "# add oracle U_f\n",
    "\n",
    "# add reflector operator"
   ]
  },
  {
   "cell_type": "code",
   "execution_count": null,
   "metadata": {},
   "outputs": [],
   "source": []
  },
  {
   "cell_type": "code",
   "execution_count": null,
   "metadata": {},
   "outputs": [],
   "source": []
  },
  {
   "cell_type": "code",
   "execution_count": null,
   "metadata": {},
   "outputs": [],
   "source": []
  }
 ],
 "metadata": {
  "interpreter": {
   "hash": "c4192f8bb36c940ec359c25baa8c66226fb2d6a5f1bbbe17ca06547285f37219"
  },
  "kernelspec": {
   "display_name": "Qiskit v0.35.0 (ipykernel)",
   "language": "python",
   "name": "python3"
  },
  "language_info": {
   "codemirror_mode": {
    "name": "ipython",
    "version": 3
   },
   "file_extension": ".py",
   "mimetype": "text/x-python",
   "name": "python",
   "nbconvert_exporter": "python",
   "pygments_lexer": "ipython3",
   "version": "3.8.13"
  },
  "widgets": {
   "application/vnd.jupyter.widget-state+json": {
    "state": {
     "0aa374b097ba42f089ef2edec5cde388": {
      "model_module": "@jupyter-widgets/controls",
      "model_module_version": "1.5.0",
      "model_name": "DescriptionStyleModel",
      "state": {
       "description_width": ""
      }
     },
     "0df9a47c79f8491c9c1ed0dd5de4adbc": {
      "model_module": "@jupyter-widgets/controls",
      "model_module_version": "1.5.0",
      "model_name": "DescriptionStyleModel",
      "state": {
       "description_width": ""
      }
     },
     "2b632bffe9f24a028dfb445d112dc1dd": {
      "model_module": "@jupyter-widgets/controls",
      "model_module_version": "1.5.0",
      "model_name": "DescriptionStyleModel",
      "state": {
       "description_width": ""
      }
     },
     "30d2df3c17ee4636986d2d045d7a1192": {
      "model_module": "@jupyter-widgets/controls",
      "model_module_version": "1.5.0",
      "model_name": "DescriptionStyleModel",
      "state": {
       "description_width": ""
      }
     },
     "318a44436bc446b492409e73c7513d11": {
      "model_module": "@jupyter-widgets/controls",
      "model_module_version": "1.5.0",
      "model_name": "HBoxModel",
      "state": {
       "children": [
        "IPY_MODEL_e101d10d128e4e20a0f4e093c8d4b87c",
        "IPY_MODEL_511055a06dc7491aaaf922772d8a4026",
        "IPY_MODEL_4fd4cf24dbd448d3a3c0f802502450c7",
        "IPY_MODEL_59f04ffd0b9e4597839de10722033fbd",
        "IPY_MODEL_93c981424b164b9b821a5eb5c487cc56"
       ],
       "layout": "IPY_MODEL_62d8824a65c04d9589281799f3959ac4"
      }
     },
     "4fd4cf24dbd448d3a3c0f802502450c7": {
      "model_module": "@jupyter-widgets/controls",
      "model_module_version": "1.5.0",
      "model_name": "HTMLModel",
      "state": {
       "layout": "IPY_MODEL_655b723faac7446e9a1e6d4286b539eb",
       "style": "IPY_MODEL_555571f05ff94fa7acfe31887beb111d",
       "value": "<h5>Status</h5>"
      }
     },
     "511055a06dc7491aaaf922772d8a4026": {
      "model_module": "@jupyter-widgets/controls",
      "model_module_version": "1.5.0",
      "model_name": "HTMLModel",
      "state": {
       "layout": "IPY_MODEL_b7d1a1725cf64e3e9a8e3d2a7d958f9f",
       "style": "IPY_MODEL_0df9a47c79f8491c9c1ed0dd5de4adbc",
       "value": "<h5>Backend</h5>"
      }
     },
     "555571f05ff94fa7acfe31887beb111d": {
      "model_module": "@jupyter-widgets/controls",
      "model_module_version": "1.5.0",
      "model_name": "DescriptionStyleModel",
      "state": {
       "description_width": ""
      }
     },
     "563e68effe4f4f50a77e7825b5f5890f": {
      "model_module": "@jupyter-widgets/base",
      "model_module_version": "1.2.0",
      "model_name": "LayoutModel",
      "state": {
       "margin": "0px 0px 10px 0px"
      }
     },
     "59f04ffd0b9e4597839de10722033fbd": {
      "model_module": "@jupyter-widgets/controls",
      "model_module_version": "1.5.0",
      "model_name": "HTMLModel",
      "state": {
       "layout": "IPY_MODEL_f3cca77a0e1d4637a30a80d6ba5b428b",
       "style": "IPY_MODEL_0aa374b097ba42f089ef2edec5cde388",
       "value": "<h5>Queue</h5>"
      }
     },
     "61b732d4070b40e4b16be39ed5cd6ea3": {
      "model_module": "@jupyter-widgets/base",
      "model_module_version": "1.2.0",
      "model_name": "LayoutModel",
      "state": {
       "grid_template_areas": "\n                                       \". . . . right \"\n                                        ",
       "grid_template_columns": "20% 20% 20% 20% 20%",
       "width": "100%"
      }
     },
     "62d8824a65c04d9589281799f3959ac4": {
      "model_module": "@jupyter-widgets/base",
      "model_module_version": "1.2.0",
      "model_name": "LayoutModel",
      "state": {
       "margin": "0px 0px 0px 37px",
       "width": "600px"
      }
     },
     "655b723faac7446e9a1e6d4286b539eb": {
      "model_module": "@jupyter-widgets/base",
      "model_module_version": "1.2.0",
      "model_name": "LayoutModel",
      "state": {
       "width": "95px"
      }
     },
     "6b1bd37a5d4b4cfbb06e051a961e2b19": {
      "model_module": "@jupyter-widgets/controls",
      "model_module_version": "1.5.0",
      "model_name": "DescriptionStyleModel",
      "state": {
       "description_width": ""
      }
     },
     "717b5aa447824810a72ff303a7148f3f": {
      "model_module": "@jupyter-widgets/controls",
      "model_module_version": "1.5.0",
      "model_name": "GridBoxModel",
      "state": {
       "children": [
        "IPY_MODEL_b0c77a851a50485e8b32a7dbf0f1b046"
       ],
       "layout": "IPY_MODEL_61b732d4070b40e4b16be39ed5cd6ea3"
      }
     },
     "8e23506a02d64a8b89d78fa4f4c2a2c9": {
      "model_module": "@jupyter-widgets/controls",
      "model_module_version": "1.5.0",
      "model_name": "ButtonStyleModel",
      "state": {}
     },
     "93c981424b164b9b821a5eb5c487cc56": {
      "model_module": "@jupyter-widgets/controls",
      "model_module_version": "1.5.0",
      "model_name": "HTMLModel",
      "state": {
       "layout": "IPY_MODEL_eb4b40998e674dd9b7534f23baf0b70d",
       "style": "IPY_MODEL_30d2df3c17ee4636986d2d045d7a1192",
       "value": "<h5>Message</h5>"
      }
     },
     "b0c77a851a50485e8b32a7dbf0f1b046": {
      "model_module": "@jupyter-widgets/controls",
      "model_module_version": "1.5.0",
      "model_name": "ButtonModel",
      "state": {
       "button_style": "primary",
       "description": "Clear",
       "layout": "IPY_MODEL_b5ce7b8e489446999377bf6886e353eb",
       "style": "IPY_MODEL_8e23506a02d64a8b89d78fa4f4c2a2c9"
      }
     },
     "b5ce7b8e489446999377bf6886e353eb": {
      "model_module": "@jupyter-widgets/base",
      "model_module_version": "1.2.0",
      "model_name": "LayoutModel",
      "state": {
       "grid_area": "right",
       "padding": "0px 0px 0px 0px",
       "width": "70px"
      }
     },
     "b7d1a1725cf64e3e9a8e3d2a7d958f9f": {
      "model_module": "@jupyter-widgets/base",
      "model_module_version": "1.2.0",
      "model_name": "LayoutModel",
      "state": {
       "width": "145px"
      }
     },
     "e101d10d128e4e20a0f4e093c8d4b87c": {
      "model_module": "@jupyter-widgets/controls",
      "model_module_version": "1.5.0",
      "model_name": "HTMLModel",
      "state": {
       "layout": "IPY_MODEL_e2281653832349b7b98f8a418c308d0d",
       "style": "IPY_MODEL_2b632bffe9f24a028dfb445d112dc1dd",
       "value": "<h5>Job ID</h5>"
      }
     },
     "e2281653832349b7b98f8a418c308d0d": {
      "model_module": "@jupyter-widgets/base",
      "model_module_version": "1.2.0",
      "model_name": "LayoutModel",
      "state": {
       "width": "190px"
      }
     },
     "eaf092b70d3b4beba8a0d98932ec03d5": {
      "model_module": "@jupyter-widgets/controls",
      "model_module_version": "1.5.0",
      "model_name": "HTMLModel",
      "state": {
       "layout": "IPY_MODEL_563e68effe4f4f50a77e7825b5f5890f",
       "style": "IPY_MODEL_6b1bd37a5d4b4cfbb06e051a961e2b19",
       "value": "<p style='font-family: IBM Plex Sans, Arial, Helvetica, sans-serif; font-size: 20px; font-weight: medium;'>Circuit Properties</p>"
      }
     },
     "eb4b40998e674dd9b7534f23baf0b70d": {
      "model_module": "@jupyter-widgets/base",
      "model_module_version": "1.2.0",
      "model_name": "LayoutModel",
      "state": {}
     },
     "f3cca77a0e1d4637a30a80d6ba5b428b": {
      "model_module": "@jupyter-widgets/base",
      "model_module_version": "1.2.0",
      "model_name": "LayoutModel",
      "state": {
       "width": "70px"
      }
     }
    },
    "version_major": 2,
    "version_minor": 0
   }
  }
 },
 "nbformat": 4,
 "nbformat_minor": 4
}
